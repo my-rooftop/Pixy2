{
  "nbformat": 4,
  "nbformat_minor": 0,
  "metadata": {
    "colab": {
      "name": "pid_tensor_rotate_update.ipynb",
      "provenance": []
    },
    "kernelspec": {
      "name": "python3",
      "display_name": "Python 3"
    },
    "language_info": {
      "name": "python"
    }
  },
  "cells": [
    {
      "cell_type": "code",
      "metadata": {
        "id": "Whc4owIJNur3"
      },
      "source": [
        "f_leftandright = open('leftandright', 'rb')\n",
        "left_lst = []\n",
        "right_lst = []\n",
        "pan_lst = []\n",
        "tilt_lst = []\n",
        "\n",
        "for i in range(5120):\n",
        "  left = f_leftandright.read(4)\n",
        "  right = f_leftandright.read(4)\n",
        "  pan = f_leftandright.read(4)\n",
        "  tilt = f_leftandright.read(4)\n",
        "  left_lst.append(int.from_bytes(left, byteorder = 'little' ,signed = True))\n",
        "  right_lst.append(int.from_bytes(right, byteorder = 'little' ,signed = True))\n",
        "  pan_lst.append(int.from_bytes(pan, byteorder = 'little' ,signed = True))\n",
        "  tilt_lst.append(int.from_bytes(tilt, byteorder = 'little' ,signed = True))\n",
        "\n",
        "f_offset = open('offset', 'rb')\n",
        "panoff_lst = []\n",
        "tiltoff_lst = []\n",
        "rotateoff_lst = []\n",
        "tranoff_lst = []\n",
        "\n",
        "for i in range(5120):\n",
        "  panoff = f_offset.read(4)\n",
        "  tiltoff = f_offset.read(4)\n",
        "  rotateoff = f_offset.read(4)\n",
        "  tranoff = f_offset.read(4)\n",
        "  panoff_lst.append(int.from_bytes(panoff, byteorder = 'little' ,signed = True))\n",
        "  tiltoff_lst.append(int.from_bytes(tiltoff, byteorder = 'little' ,signed = True))\n",
        "  rotateoff_lst.append(int.from_bytes(rotateoff, byteorder = 'little' ,signed = True))\n",
        "  tranoff_lst.append(int.from_bytes(tranoff, byteorder = 'little' ,signed = True))\n",
        "\n",
        "rotatecom = []\n",
        "translatecom = []\n",
        "for i in range(5120):\n",
        "  rotatecom.append((right_lst[i] - left_lst[i])/2)\n",
        "  translatecom.append((right_lst[i] + left_lst[i])/2)\n"
      ],
      "execution_count": 78,
      "outputs": []
    },
    {
      "cell_type": "code",
      "metadata": {
        "id": "21P8W53VOAvK"
      },
      "source": [
        "import numpy as np\n",
        "\n",
        "import tensorflow as tf"
      ],
      "execution_count": 79,
      "outputs": []
    },
    {
      "cell_type": "code",
      "metadata": {
        "id": "G5rHJS1POB9K"
      },
      "source": [
        "size = 5120\n",
        "datanum = 10\n",
        "purpose_offset = rotateoff_lst\n",
        "purpose_value = rotatecom"
      ],
      "execution_count": 80,
      "outputs": []
    },
    {
      "cell_type": "code",
      "metadata": {
        "id": "ZaD1Tuzcq-3j"
      },
      "source": [
        "input_lst = []\n",
        "for i in range(size - datanum + 1):\n",
        "  box = []\n",
        "  for j in range(i, i+datanum, 1):\n",
        "    box.append(purpose_offset[j])\n",
        "  input_lst.append(box)\n",
        "\n",
        "label_lst = []\n",
        "for i in range(datanum - 1, size, 1):\n",
        "  box = []\n",
        "  box.append(purpose_value[i])\n",
        "  label_lst.append(box)"
      ],
      "execution_count": 81,
      "outputs": []
    },
    {
      "cell_type": "code",
      "metadata": {
        "id": "QnLLJuAVOTz7"
      },
      "source": [
        "rotateoff_numpy = np.array(input_lst)\n",
        "rotatecom_numpy = np.array(label_lst)"
      ],
      "execution_count": 82,
      "outputs": []
    },
    {
      "cell_type": "code",
      "metadata": {
        "id": "2iz09mKRrSs7"
      },
      "source": [
        "mean_vals = np.mean(rotateoff_numpy, axis=0)\n",
        "std_val = np.std(rotateoff_numpy)\n",
        "\n",
        "mean_vals_com = np.mean(rotatecom_numpy, axis=0)\n",
        "std_val_com = np.std(rotatecom_numpy)"
      ],
      "execution_count": 83,
      "outputs": []
    },
    {
      "cell_type": "code",
      "metadata": {
        "id": "B_Qrr9HFOjHP"
      },
      "source": [
        "rotateoff_numpy_centered = (rotateoff_numpy - mean_vals)/std_val\n",
        "rotatecom_numpy_centered = (rotatecom_numpy - mean_vals_com)/std_val_com\n",
        "\n",
        "# rotateoff_numpy_centered = (rotateoff_numpy - np.max(rotateoff_numpy))/(np.max(rotateoff_numpy) - np.min(rotateoff_numpy))\n",
        "# rotatecom_numpy_centered = (rotatecom_numpy - np.max(rotatecom_numpy))/(np.max(rotatecom_numpy) - np.min(rotatecom_numpy))"
      ],
      "execution_count": 84,
      "outputs": []
    },
    {
      "cell_type": "markdown",
      "metadata": {
        "id": "3SLHivbm-jkW"
      },
      "source": [
        ""
      ]
    },
    {
      "cell_type": "code",
      "metadata": {
        "id": "T08Ffm0yrpwo"
      },
      "source": [
        "train_x = np.ones((4000, datanum))\n",
        "train_y = np.ones((4000, 1))\n",
        "test_x = np.ones((1120 - datanum + 1, datanum))\n",
        "test_y = np.ones((1120 - datanum + 1, 1))\n",
        "\n",
        "for i in range(4000):\n",
        "  train_x[i] = rotateoff_numpy_centered[i]\n",
        "  train_y[i] = rotatecom_numpy_centered[i]\n",
        "\n",
        "for i in range(4000, 5120 - datanum + 1, 1):\n",
        "  test_x[i - 4000] = rotateoff_numpy_centered[i]\n",
        "  test_y[i - 4000] = rotatecom_numpy_centered[i]"
      ],
      "execution_count": 85,
      "outputs": []
    },
    {
      "cell_type": "code",
      "metadata": {
        "colab": {
          "base_uri": "https://localhost:8080/"
        },
        "id": "oMpBUkHbrxNP",
        "outputId": "29526f9c-6d0c-401a-da96-58b847232c21"
      },
      "source": [
        "print(test_x)"
      ],
      "execution_count": 86,
      "outputs": [
        {
          "output_type": "stream",
          "text": [
            "[[-0.6966206  -0.78573578 -0.44449874 ... -0.27210525 -0.61837298\n",
            "  -0.66787561]\n",
            " [-0.78565739 -0.44442809 -0.17244188 ... -0.61835943 -0.66783787\n",
            "  -0.65798263]\n",
            " [-0.4443497  -0.17237123 -0.56321446 ... -0.66782432 -0.65794489\n",
            "  -1.11800605]\n",
            " ...\n",
            " [-1.10717913 -1.13693646  1.50441767 ...  0.50943991  0.84084108\n",
            "  -0.19301273]\n",
            " [-1.13685806  1.50448832  1.08396616 ...  0.84085463 -0.19297499\n",
            "  -0.52937394]\n",
            " [ 1.50456671  1.08403681  0.7673909  ... -0.19296144 -0.52933619\n",
            "  -0.68766156]]\n"
          ],
          "name": "stdout"
        }
      ]
    },
    {
      "cell_type": "code",
      "metadata": {
        "id": "_fzcTetfPdtM"
      },
      "source": [
        "model = tf.keras.models.Sequential()\n",
        "\n",
        "model.add(\n",
        "    tf.keras.layers.Dense(\n",
        "        units=50,    \n",
        "        input_dim = train_x.shape[1],\n",
        "        kernel_initializer='glorot_normal',\n",
        "        bias_initializer='zeros',\n",
        "        activation='tanh'))\n",
        "model.add(tf.keras.layers.Dropout(.2, input_shape=(2,)))\n",
        "model.add(\n",
        "    tf.keras.layers.Dense(\n",
        "        units=100,    \n",
        "        input_dim=100,\n",
        "        kernel_initializer='glorot_normal',\n",
        "        bias_initializer='zeros',\n",
        "        activation='tanh'))\n",
        "model.add(tf.keras.layers.Dropout(.2, input_shape=(2,)))\n",
        "model.add(\n",
        "    tf.keras.layers.Dense(\n",
        "        units=train_y.shape[1],    \n",
        "        input_dim=100,\n",
        "        kernel_initializer='glorot_normal',\n",
        "        bias_initializer='zeros',\n",
        "        activation=None))"
      ],
      "execution_count": 87,
      "outputs": []
    },
    {
      "cell_type": "code",
      "metadata": {
        "colab": {
          "base_uri": "https://localhost:8080/"
        },
        "id": "hKyWHyofPi7a",
        "outputId": "6eb43d13-2203-4b63-978e-3fc5915fbef8"
      },
      "source": [
        "model.summary()"
      ],
      "execution_count": 88,
      "outputs": [
        {
          "output_type": "stream",
          "text": [
            "Model: \"sequential_4\"\n",
            "_________________________________________________________________\n",
            "Layer (type)                 Output Shape              Param #   \n",
            "=================================================================\n",
            "dense_12 (Dense)             (None, 50)                550       \n",
            "_________________________________________________________________\n",
            "dropout_2 (Dropout)          (None, 50)                0         \n",
            "_________________________________________________________________\n",
            "dense_13 (Dense)             (None, 100)               5100      \n",
            "_________________________________________________________________\n",
            "dropout_3 (Dropout)          (None, 100)               0         \n",
            "_________________________________________________________________\n",
            "dense_14 (Dense)             (None, 1)                 101       \n",
            "=================================================================\n",
            "Total params: 5,751\n",
            "Trainable params: 5,751\n",
            "Non-trainable params: 0\n",
            "_________________________________________________________________\n"
          ],
          "name": "stdout"
        }
      ]
    },
    {
      "cell_type": "code",
      "metadata": {
        "id": "wcbUXSzYPl9f"
      },
      "source": [
        "sgd_optimizer = tf.keras.optimizers.SGD(\n",
        "    lr=0.000001, decay=1e-7, momentum=.9)\n",
        "\n",
        "model.compile(optimizer=sgd_optimizer,\n",
        "              loss='mse')"
      ],
      "execution_count": 89,
      "outputs": []
    },
    {
      "cell_type": "code",
      "metadata": {
        "colab": {
          "base_uri": "https://localhost:8080/"
        },
        "id": "PRXDeGnNPyl4",
        "outputId": "c319ede0-2ca8-4238-b0a4-f2348b9391bc"
      },
      "source": [
        "history = model.fit(train_x, train_y,\n",
        "                    batch_size=1, epochs=50,\n",
        "                    verbose=1,\n",
        "                    validation_split=0.1)"
      ],
      "execution_count": null,
      "outputs": [
        {
          "output_type": "stream",
          "text": [
            "Epoch 1/50\n",
            "3600/3600 [==============================] - 4s 1ms/step - loss: 0.6863 - val_loss: 0.2523\n",
            "Epoch 2/50\n",
            "3600/3600 [==============================] - 4s 1ms/step - loss: 0.3091 - val_loss: 0.1437\n",
            "Epoch 3/50\n",
            "3600/3600 [==============================] - 4s 1ms/step - loss: 0.2309 - val_loss: 0.1159\n",
            "Epoch 4/50\n",
            "3600/3600 [==============================] - 4s 1ms/step - loss: 0.2204 - val_loss: 0.1016\n",
            "Epoch 5/50\n",
            "3600/3600 [==============================] - 4s 1ms/step - loss: 0.2058 - val_loss: 0.0926\n",
            "Epoch 6/50\n",
            "1438/3600 [==========>...................] - ETA: 2s - loss: 0.1735"
          ],
          "name": "stdout"
        }
      ]
    },
    {
      "cell_type": "code",
      "metadata": {
        "id": "8cHfeniKPz65"
      },
      "source": [
        "import matplotlib.pyplot as plt\n",
        "\n",
        "loss_and_metrics = model.evaluate(test_x, test_y, batch_size=1)\n",
        "xhat = test_x\n",
        "yhat = model.predict(xhat)\n",
        "print(yhat)\n",
        "\n",
        "\n",
        "SSE_lst = [] \n",
        "SST_lst = []\n",
        "\n",
        "means = test_y.sum()/test_y.shape[0]\n",
        "\n",
        "for i in range(xhat.shape[0]):\n",
        "  SSE_lst.append((test_y[i] - yhat[i])**2)\n",
        "  SST_lst.append((test_y[i] - means)**2)\n",
        "\n",
        "R_square = 1 - (sum(SSE_lst) / sum(SST_lst))\n",
        "\n",
        "\n",
        "plt.plot(test_x, test_y, '.', color = 'b') \n",
        "plt.plot(xhat, yhat, '.', color = 'r') \n",
        "\n",
        "plt.show()\n",
        "\n",
        "print(R_square)\n"
      ],
      "execution_count": null,
      "outputs": []
    },
    {
      "cell_type": "code",
      "metadata": {
        "id": "IFjwLtLL467u"
      },
      "source": [
        "plt.plot(test_y, yhat, '.', color = 'b') \n",
        "\n",
        "\n",
        "plt.show()\n"
      ],
      "execution_count": null,
      "outputs": []
    },
    {
      "cell_type": "code",
      "metadata": {
        "id": "Ou8Fnhu_VnXC"
      },
      "source": [
        ""
      ],
      "execution_count": null,
      "outputs": []
    }
  ]
}