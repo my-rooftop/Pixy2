{
  "nbformat": 4,
  "nbformat_minor": 0,
  "metadata": {
    "colab": {
      "name": "scikitlearn_rotate.ipynb",
      "provenance": []
    },
    "kernelspec": {
      "display_name": "Python 3",
      "name": "python3"
    },
    "language_info": {
      "name": "python"
    }
  },
  "cells": [
    {
      "cell_type": "code",
      "metadata": {
        "id": "cj0vCDhanbZW"
      },
      "source": [
        "from sklearn.neural_network import MLPClassifier\n",
        "import numpy as np\n",
        "\n",
        "f_leftandright = open('leftandright', 'rb')\n",
        "left_lst = []\n",
        "right_lst = []\n",
        "pan_lst = []\n",
        "tilt_lst = []\n",
        "\n",
        "for i in range(16139):\n",
        "  left = f_leftandright.read(4)\n",
        "  right = f_leftandright.read(4)\n",
        "  pan = f_leftandright.read(4)\n",
        "  tilt = f_leftandright.read(4)\n",
        "  left_lst.append(int.from_bytes(left, byteorder = 'little' ,signed = True))\n",
        "  right_lst.append(int.from_bytes(right, byteorder = 'little' ,signed = True))\n",
        "  pan_lst.append(int.from_bytes(pan, byteorder = 'little' ,signed = True))\n",
        "  tilt_lst.append(int.from_bytes(tilt, byteorder = 'little' ,signed = True))\n",
        "\n",
        "f_offset = open('offset', 'rb')\n",
        "panoff_lst = []\n",
        "tiltoff_lst = []\n",
        "rotateoff_lst = []\n",
        "tranoff_lst = []\n",
        "\n",
        "for i in range(16139):\n",
        "  panoff = f_offset.read(4)\n",
        "  tiltoff = f_offset.read(4)\n",
        "  rotateoff = f_offset.read(4)\n",
        "  tranoff = f_offset.read(4)\n",
        "  panoff_lst.append(int.from_bytes(panoff, byteorder = 'little' ,signed = True))\n",
        "  tiltoff_lst.append(int.from_bytes(tiltoff, byteorder = 'little' ,signed = True))\n",
        "  rotateoff_lst.append(int.from_bytes(rotateoff, byteorder = 'little' ,signed = True))\n",
        "  tranoff_lst.append(int.from_bytes(tranoff, byteorder = 'little' ,signed = True))\n",
        "\n",
        "rotatecom = []\n",
        "translatecom = []\n",
        "for i in range(16139):\n",
        "  rotatecom.append((right_lst[i] - left_lst[i])/2)\n",
        "  translatecom.append((right_lst[i] + left_lst[i])/2)\n"
      ],
      "execution_count": 222,
      "outputs": []
    },
    {
      "cell_type": "code",
      "metadata": {
        "id": "aq2HHEWLn7GS"
      },
      "source": [
        "size = 15000\n",
        "test_num = 1000\n",
        "datanum = 5\n",
        "purpose_offset = rotateoff_lst\n",
        "purpose_value = rotatecom"
      ],
      "execution_count": 223,
      "outputs": []
    },
    {
      "cell_type": "code",
      "metadata": {
        "id": "HsSC5RWEn9Aq"
      },
      "source": [
        "input_lst = []\n",
        "input_lst_test = []\n",
        "for i in range(size - datanum + 1):\n",
        "  box = []\n",
        "  for j in range(i, i+datanum, 1):\n",
        "    box.append(purpose_offset[j])\n",
        "  if i > size - datanum + 1 - test_num - 1:\n",
        "    input_lst_test.append(box)\n",
        "  else : \n",
        "    input_lst.append(box)\n",
        "\n",
        "label_lst = []\n",
        "label_lst_test = []\n",
        "for i in range(datanum - 1, size, 1):\n",
        "  if i > size -  test_num - 1:\n",
        "    label_lst_test.append(purpose_value[i])\n",
        "  else:\n",
        "    label_lst.append(purpose_value[i])\n"
      ],
      "execution_count": 224,
      "outputs": []
    },
    {
      "cell_type": "code",
      "metadata": {
        "colab": {
          "base_uri": "https://localhost:8080/"
        },
        "id": "j_FuMHIpv7H1",
        "outputId": "e6701ecc-fc4a-4d93-cdf3-318193012114"
      },
      "source": [
        "print(len(input_lst), len(input_lst_test))\n",
        "print(len(label_lst), len(label_lst_test))"
      ],
      "execution_count": 225,
      "outputs": [
        {
          "output_type": "stream",
          "text": [
            "13996 1000\n",
            "13996 1000\n"
          ],
          "name": "stdout"
        }
      ]
    },
    {
      "cell_type": "code",
      "metadata": {
        "id": "he1-dFJToxiz"
      },
      "source": [
        "# rotateoff_numpy = np.array(input_lst)\n",
        "# rotatecom_numpy = np.array(label_lst)\n",
        "\n",
        "# mean_vals = np.mean(rotateoff_numpy, axis=0)\n",
        "# std_val = np.std(rotateoff_numpy)\n",
        "\n",
        "# mean_vals_com = np.mean(rotatecom_numpy, axis=0)\n",
        "# std_val_com = np.std(rotatecom_numpy)\n",
        "\n",
        "# rotateoff_numpy_centered = (rotateoff_numpy - mean_vals)/std_val\n",
        "# rotatecom_numpy_centered = (rotatecom_numpy - mean_vals_com)/std_val_com\n",
        "\n",
        "# train_x = np.ones((13139, datanum))\n",
        "# train_y = np.ones((13139, 1))\n",
        "# test_x = np.ones((2000 - datanum + 1, datanum))\n",
        "# test_y = np.ones((2000 - datanum + 1, 1))\n",
        "\n",
        "# for i in range(13139):\n",
        "#   train_x[i] = rotateoff_numpy_centered[i]\n",
        "#   train_y[i] = rotatecom_numpy_centered[i]\n",
        "\n",
        "# for i in range(13139, 15139 - datanum + 1, 1):\n",
        "#   test_x[i - 13139] = rotateoff_numpy_centered[i]\n",
        "#   test_y[i - 13139] = rotatecom_numpy_centered[i]\n",
        "\n",
        "# train_x = train_x.tolist()\n",
        "# train_y = train_y.tolist()\n",
        "# test_x = test_x.tolist()\n",
        "# test_y = test_y.tolist()  "
      ],
      "execution_count": 226,
      "outputs": []
    },
    {
      "cell_type": "code",
      "metadata": {
        "id": "jixuoPYnkeUj"
      },
      "source": [
        "\n",
        "# X = [[0., 0.], [1., 1.]]\n",
        "# y = [0, 1]\n",
        "clf = MLPClassifier(solver='adam', alpha=1e-5,batch_size=100,\n",
        "                     hidden_layer_sizes=(10, 10), random_state=1)\n",
        "\n",
        "\n"
      ],
      "execution_count": 227,
      "outputs": []
    },
    {
      "cell_type": "code",
      "metadata": {
        "colab": {
          "base_uri": "https://localhost:8080/"
        },
        "id": "MbdeA8yvK5Dq",
        "outputId": "5e7a49b0-05f5-44db-8614-efbb725616ed"
      },
      "source": [
        "clf.fit(input_lst, label_lst)"
      ],
      "execution_count": 228,
      "outputs": [
        {
          "output_type": "stream",
          "text": [
            "/usr/local/lib/python3.7/dist-packages/sklearn/neural_network/_multilayer_perceptron.py:571: ConvergenceWarning: Stochastic Optimizer: Maximum iterations (200) reached and the optimization hasn't converged yet.\n",
            "  % self.max_iter, ConvergenceWarning)\n"
          ],
          "name": "stderr"
        },
        {
          "output_type": "execute_result",
          "data": {
            "text/plain": [
              "MLPClassifier(activation='relu', alpha=1e-05, batch_size=100, beta_1=0.9,\n",
              "              beta_2=0.999, early_stopping=False, epsilon=1e-08,\n",
              "              hidden_layer_sizes=(10, 10), learning_rate='constant',\n",
              "              learning_rate_init=0.001, max_fun=15000, max_iter=200,\n",
              "              momentum=0.9, n_iter_no_change=10, nesterovs_momentum=True,\n",
              "              power_t=0.5, random_state=1, shuffle=True, solver='adam',\n",
              "              tol=0.0001, validation_fraction=0.1, verbose=False,\n",
              "              warm_start=False)"
            ]
          },
          "metadata": {
            "tags": []
          },
          "execution_count": 228
        }
      ]
    },
    {
      "cell_type": "code",
      "metadata": {
        "colab": {
          "base_uri": "https://localhost:8080/"
        },
        "id": "ztKEtJKDkuEn",
        "outputId": "83f498df-7ddd-4389-e8db-583dc091e8c2"
      },
      "source": [
        "clf.predict(input_lst_test)\n"
      ],
      "execution_count": 229,
      "outputs": [
        {
          "output_type": "execute_result",
          "data": {
            "text/plain": [
              "array([-109., -141., -141., -141., -141.,  -88.,  -88.,  -91.,  -72.,\n",
              "        -65.,  -69.,  120.,  128.,  128.,  131.,  131.,  131.,  133.,\n",
              "        145.,  145.,  148.,  138.,  131.,  131.,  121.,  114.,  111.,\n",
              "        111.,  107.,  107.,  107.,  102.,  109.,  107.,  112.,  112.,\n",
              "        112.,  124.,  124.,  122.,  128.,  124.,  124.,  128.,  124.,\n",
              "        129.,  124.,  124.,  124.,  122.,  114.,  107.,  111.,  107.,\n",
              "        102.,  102.,  102.,   99.,   99.,   99.,   99.,  102.,  102.,\n",
              "        102.,  102.,   99.,   99.,  102.,   99.,   99.,   99.,   99.,\n",
              "         99.,   99.,   95.,   87.,   95.,   95.,   95.,  -87.,   95.,\n",
              "         95.,   95.,   95.,   95.,   95.,   95.,   95.,   95.,   95.,\n",
              "         95.,   95.,   95.,   95.,   95.,   95.,   95.,   95.,   73.,\n",
              "         73.,   73.,   73.,   73.,   73.,   73.,   73.,   73.,   73.,\n",
              "         73.,   73.,   73.,   73.,  -95.,  -93.,  -88.,  -69.,  -69.,\n",
              "        120.,  128.,  128.,  131.,  143.,  153.,  153.,  153.,  153.,\n",
              "        160.,  160.,  162.,  162.,  162.,  162.,  162.,  162.,  162.,\n",
              "        162.,  162.,  162.,  162.,  151.,  148.,  148.,  148.,  148.,\n",
              "        138.,  138.,  131.,  131.,  131.,  131.,  129.,  129.,  131.,\n",
              "        131.,  138.,  148.,  148.,  153.,  153.,  153.,  160.,  162.,\n",
              "        162.,  162.,  162.,  162.,  153.,  148.,  140.,  138.,  131.,\n",
              "        138.,  138.,  131.,  138.,  138.,  138.,  138.,  148.,  148.,\n",
              "        148.,  153.,  153.,  153.,  160.,  162.,  162.,  167.,  162.,\n",
              "        162.,  153.,  148.,  148.,  148.,  131.,  131.,  131.,  131.,\n",
              "        124.,  122.,  121.,  121.,  121.,  122.,  126.,  129.,  131.,\n",
              "        131.,  138.,  145.,  145.,  145.,  145.,  148.,  148.,  138.,\n",
              "        138.,  131.,  131.,  131.,  131.,  131.,  129.,  129.,  129.,\n",
              "        124.,  124.,  122.,  121.,  122.,  121.,  124.,  124.,  124.,\n",
              "        124.,  122.,  122.,  122.,  177.,  194.,  184.,  177.,  160.,\n",
              "        145.,  131.,  124.,  107.,  101.,   88.,   87., -108., -109.,\n",
              "        -44., -132., -141., -151., -151., -115., -115.,  -98.,  -88.,\n",
              "        -69.,  -62.,  -69.,  124., -114.,  -96.,   87., -109., -120.,\n",
              "       -132., -141., -141., -141., -112., -151.,  -96., -151., -132.,\n",
              "        -78.,  -88.,  -72.,  -62.,  -69.,  124.,  131.,  120.,  128.,\n",
              "        124.,  118.,  114.,  114.,  107.,  107.,  107.,  107.,  107.,\n",
              "        119.,  112.,  146.,  147.,  170.,  177.,  221.,  228.,  201.,\n",
              "        179.,  179.,  140.,  125.,  107.,  101.,   88.,   87., -108.,\n",
              "       -109.,  -44.,  -74., -112., -105., -160., -120., -127., -120.,\n",
              "       -127., -127., -127., -127., -127., -127., -127., -127., -127.,\n",
              "       -127., -127., -127., -127., -127., -127., -127., -127., -127.,\n",
              "       -127., -127., -127., -127., -127., -127., -127., -127., -120.,\n",
              "       -109., -105.,  -98.,  -91.,  -88.,  -75.,  -69.,  120.,  128.,\n",
              "        131.,  131.,  139.,  139.,  131.,  139.,  138.,  138.,  138.,\n",
              "        138.,  138.,  138.,  138.,  138.,  138.,  131.,  131.,  131.,\n",
              "        129.,  129.,  124.,  122.,  122.,  114.,  114.,  111.,  107.,\n",
              "        107.,  102.,  107.,  107.,  107.,  110.,  107.,  112.,  112.,\n",
              "        107.,  107.,  107.,   99.,   99.,   99.,   88.,   88.,   87.,\n",
              "         87.,  -42.,  110., -118., -112., -108.,  -95., -150.,  111.,\n",
              "        -98., -130., -113.,  -50.,  -50., -141., -127., -127., -127.,\n",
              "       -127., -115., -109.,  -98.,  -96.,  -88.,  -76.,  -65.,  107.,\n",
              "        107.,   99.,   99.,   88.,   87.,   87.,   68., -108., -108.,\n",
              "       -103., -108.,  -95.,  -88.,   92.,  -69.,  -69.,  120.,  131.,\n",
              "        131.,  131.,  131.,  131.,  131.,  129.,  116.,  117.,  114.,\n",
              "        116.,  107.,  112.,  112.,  121.,  112.,  114.,  119.,  121.,\n",
              "        124.,  118.,  128.,  122.,  131.,  124.,  153.,  146.,  118.,\n",
              "        131.,  122.,  162.,  146.,  162.,  153.,  148.,  148.,  138.,\n",
              "        138.,   88.,  -74.,   87.,   87.,  112.,  -92., -130., -109.,\n",
              "        -44.,  -69., -119.,  -83.,  -65.,  116.,  120.,  -57.,  138.,\n",
              "        -44.,  131.,  131.,  153.,  107.,  153.,  138.,   88.,   96.,\n",
              "        133.,  -61.,  -72.,   80., -108., -112., -108., -100.,  -88.,\n",
              "        -69.,  -65.,  -65.,  -57.,  146.,  153.,  153.,  153.,  153.,\n",
              "        153.,  153.,  153.,  131.,  148.,  146.,  146.,  138.,  131.,\n",
              "        131.,  131.,  129.,  126.,  124.,  122.,  121.,  121.,  114.,\n",
              "        129.,  129.,  138.,  131.,  145.,  145.,  145.,  145.,  153.,\n",
              "        153.,  148.,  148.,  148.,  131.,  138.,  131.,  116.,  124.,\n",
              "        126.,  121.,  124.,  124.,  131.,  131.,  138.,  138.,  153.,\n",
              "        153.,  153.,  153.,  160.,  162.,  162.,  148.,  148.,  148.,\n",
              "        148.,  146.,  138.,  148.,  138.,  138.,  138.,  138.,  138.,\n",
              "        138.,  148.,  148.,  148.,  148.,  148.,  148.,  153.,  153.,\n",
              "        162.,  162.,  162.,  162.,  167.,  167.,  173.,  167.,  167.,\n",
              "        162.,  162.,  150.,  151.,  151.,  151.,  148.,  148.,  148.,\n",
              "        148.,  148.,  148.,  148.,  148.,  138.,  148.,  148.,  148.,\n",
              "        -42.,  104.,  107.,  102.,  120.,  146.,  124.,  -44.,  153.,\n",
              "        148.,  160.,  153.,  153.,   62.,  145.,  167.,  174.,  174.,\n",
              "        179.,  167.,  162.,  118.,  117.,  111.,  103.,  103.,   88.,\n",
              "         87.,   87.,   87.,   95.,  -95.,  120.,   96.,  -57.,  133.,\n",
              "        170.,  170.,  228.,  179.,  179.,  179.,  179.,  184.,  -42.,\n",
              "         96.,   87.,   87.,  -95.,  -95.,  -93.,  -78.,   87.,   98.,\n",
              "        -87., -114.,   76.,  -48.,  146.,   29.,  146.,  177.,  160.,\n",
              "        179.,  150.,  145.,  140.,  131.,  131.,  116.,  111.,  107.,\n",
              "        103.,  103.,  102.,   88.,  102.,   95.,  112.,  112.,  120.,\n",
              "        124.,  120.,  128.,  -77.,  143.,  133.,  138.,  153.,  153.,\n",
              "        145.,  145.,  148.,  148.,  153.,  138.,  148.,  148.,  146.,\n",
              "        138.,  138.,   88.,  145.,  129.,  127.,  -44.,  131.,  131.,\n",
              "        131.,  138.,  131.,  138.,  131.,  138.,  138.,  138.,  138.,\n",
              "        138.,  138.,  138.,  138.,  138.,  148.,  148.,  153.,  153.,\n",
              "        131.,  153.,  148.,  131.,  139.,  118.,  138.,  129.,  107.,\n",
              "        131.,  129.,  126.,  128.,  122.,  124.,  121.,  129.,  122.,\n",
              "        114.,  117.,  129.,  107.,  118.,  131.,   88.,  131.,   87.,\n",
              "        112.,  -92.,   88.,  112.,   95.,   85.,   80., -115., -153.,\n",
              "       -132., -132., -173., -186., -189., -195., -195., -195., -159.,\n",
              "       -227., -151., -173., -132., -159., -151., -151., -151., -151.,\n",
              "       -151., -151., -151., -173., -173., -173., -189., -173., -182.,\n",
              "       -173., -173., -159., -173., -151., -151., -151., -159., -151.,\n",
              "       -151., -151., -139., -146., -127., -151., -127., -151., -141.,\n",
              "       -151., -159., -159., -173., -173., -173., -159., -181., -151.,\n",
              "       -159., -159., -127., -140., -127., -127., -127., -127., -120.,\n",
              "       -120., -120., -120., -141., -132., -127., -160., -151., -151.,\n",
              "       -159., -159., -173., -173., -173., -186., -190., -195., -151.,\n",
              "       -165., -165.,  146.,  -35.,   36., -152., -134.,  112.,   87.,\n",
              "         77.,  -88.,  -92.,   63.,  -93.,   87.,  102.,  -92.,  102.,\n",
              "        -87.,   95.,   95.,  102.,  102.,   76.,  112.,  -92.,   95.,\n",
              "        -81.,   95.,   95.,   95.,   87.,  102.,  -92.,   95.,  -95.,\n",
              "         95.,   76.,   95.,   95.,   68., -108.,   73., -112., -109.,\n",
              "       -108., -108., -112.,  -78., -134., -106., -112., -109., -108.,\n",
              "       -108., -109., -112., -120., -112., -108., -112., -108., -109.,\n",
              "       -105.,  -98., -108.,  -78.,  -90.,  -72.,  -69.,  105.,   99.,\n",
              "        122.,  133.,  109.,  110.,  117.,  124.,  121.,  122.,  106.,\n",
              "        114.,  107.,  107.,  122.,  107.,  128.,  133.,  146.,  131.,\n",
              "        -44.,   62.,  138.,  148.,  145.,  162.,  162.,  153.,  153.,\n",
              "        153.,  151.,  151.,  148.,  148.,  124.,  124.,  121.,  116.,\n",
              "        116.,  111.,  122.,  103.,   99.,   99.,  162.,  133.,  146.,\n",
              "        153.,  170.,  184.,  184.,  179.,  179.,  143.,  145.,  138.,\n",
              "        131.])"
            ]
          },
          "metadata": {
            "tags": []
          },
          "execution_count": 229
        }
      ]
    },
    {
      "cell_type": "code",
      "metadata": {
        "colab": {
          "base_uri": "https://localhost:8080/"
        },
        "id": "GknSFXxa8Qco",
        "outputId": "cada26a2-fc01-4bb8-ab0c-2859b996d030"
      },
      "source": [
        "label_lst[0]"
      ],
      "execution_count": 230,
      "outputs": [
        {
          "output_type": "execute_result",
          "data": {
            "text/plain": [
              "-22.0"
            ]
          },
          "metadata": {
            "tags": []
          },
          "execution_count": 230
        }
      ]
    },
    {
      "cell_type": "code",
      "metadata": {
        "colab": {
          "base_uri": "https://localhost:8080/"
        },
        "id": "jTRVDWb-kxuO",
        "outputId": "d3ebc4e4-f110-4730-de8a-182cf7c4b388"
      },
      "source": [
        "[coef.shape for coef in clf.coefs_]"
      ],
      "execution_count": 231,
      "outputs": [
        {
          "output_type": "execute_result",
          "data": {
            "text/plain": [
              "[(5, 10), (10, 10), (10, 451)]"
            ]
          },
          "metadata": {
            "tags": []
          },
          "execution_count": 231
        }
      ]
    },
    {
      "cell_type": "code",
      "metadata": {
        "id": "6hpn2faY3vt0"
      },
      "source": [
        ""
      ],
      "execution_count": 231,
      "outputs": []
    },
    {
      "cell_type": "markdown",
      "metadata": {
        "id": "8gn9umlsL53Q"
      },
      "source": [
        ""
      ]
    },
    {
      "cell_type": "code",
      "metadata": {
        "colab": {
          "base_uri": "https://localhost:8080/",
          "height": 283
        },
        "id": "MfKtM5FPmayO",
        "outputId": "0e8463a0-2636-4cd5-8468-a9e7f92a3d29"
      },
      "source": [
        "import matplotlib.pyplot as plt\n",
        "\n",
        "y_hat = clf.predict(input_lst_test)\n",
        "\n",
        "\n",
        "SSE_lst = 0 \n",
        "SST_lst = 0\n",
        "\n",
        "sume = 0\n",
        "for i in range(len(label_lst_test)):\n",
        "  sume = sume + label_lst_test[i]\n",
        "\n",
        "means = float(sume/len(label_lst_test))\n",
        "\n",
        "for i in range(len(input_lst_test)):\n",
        "  SSE_lst += (label_lst_test[i] - y_hat[i])**2\n",
        "  SST_lst += (label_lst_test[i] - means)**2\n",
        "\n",
        "\n",
        "\n",
        "R_square = 1 - (SSE_lst / SST_lst)\n",
        "\n",
        "print(\"R_square :\", R_square) \n",
        "\n",
        "input_encoded = []\n",
        "for i in range(len(input_lst_test)):\n",
        "  input_encoded.append(input_lst_test[i][datanum -1])\n",
        "\n",
        "plt.plot(input_encoded, label_lst_test, '.', color = 'b') \n",
        "plt.plot(input_encoded, y_hat, '.', color = 'r') \n",
        "\n",
        "plt.show()"
      ],
      "execution_count": 232,
      "outputs": [
        {
          "output_type": "stream",
          "text": [
            "R_square : 0.6004350612679298\n"
          ],
          "name": "stdout"
        },
        {
          "output_type": "display_data",
          "data": {
            "image/png": "[encoded data removed]",
            "text/plain": [
              "<Figure size 432x288 with 1 Axes>"
            ]
          },
          "metadata": {
            "tags": [],
            "needs_background": "light"
          }
        }
      ]
    },
    {
      "cell_type": "code",
      "metadata": {
        "colab": {
          "base_uri": "https://localhost:8080/",
          "height": 268
        },
        "id": "TY79wQl9tZpy",
        "outputId": "99a67c13-c43f-4273-816d-bc55cf00ab4b"
      },
      "source": [
        "input_encoded = []\n",
        "for i in range(len(input_lst)):\n",
        "  input_encoded.append(input_lst[i][datanum -1])\n",
        "y_hat_2 = clf.predict(input_lst)\n",
        "\n",
        "plt.plot(input_encoded, label_lst, '.', color = 'b')\n",
        "plt.plot(input_encoded, y_hat_2, '.', color = 'r')\n",
        "plt.show()"
      ],
      "execution_count": 233,
      "outputs": [
        {
          "output_type": "display_data",
          "data": {
            "image/png": "[encoded data removed]",
            "text/plain": [
              "<Figure size 432x288 with 1 Axes>"
            ]
          },
          "metadata": {
            "tags": [],
            "needs_background": "light"
          }
        }
      ]
    },
    {
      "cell_type": "code",
      "metadata": {
        "id": "vss6tEvn7MVm"
      },
      "source": [
        ""
      ],
      "execution_count": null,
      "outputs": []
    }
  ]
}