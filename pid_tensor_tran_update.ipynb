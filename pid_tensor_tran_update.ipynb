{
  "nbformat": 4,
  "nbformat_minor": 0,
  "metadata": {
    "colab": {
      "name": "pid_tensor_tran_update.ipynb",
      "provenance": []
    },
    "kernelspec": {
      "name": "python3",
      "display_name": "Python 3"
    },
    "language_info": {
      "name": "python"
    }
  },
  "cells": [
    {
      "cell_type": "code",
      "metadata": {
        "id": "Whc4owIJNur3"
      },
      "source": [
        "f_leftandright = open('leftandright', 'rb')\n",
        "left_lst = []\n",
        "right_lst = []\n",
        "pan_lst = []\n",
        "tilt_lst = []\n",
        "\n",
        "for i in range(5120):\n",
        "  left = f_leftandright.read(4)\n",
        "  right = f_leftandright.read(4)\n",
        "  pan = f_leftandright.read(4)\n",
        "  tilt = f_leftandright.read(4)\n",
        "  left_lst.append(int.from_bytes(left, byteorder = 'little' ,signed = True))\n",
        "  right_lst.append(int.from_bytes(right, byteorder = 'little' ,signed = True))\n",
        "  pan_lst.append(int.from_bytes(pan, byteorder = 'little' ,signed = True))\n",
        "  tilt_lst.append(int.from_bytes(tilt, byteorder = 'little' ,signed = True))\n",
        "\n",
        "f_offset = open('offset', 'rb')\n",
        "panoff_lst = []\n",
        "tiltoff_lst = []\n",
        "rotateoff_lst = []\n",
        "tranoff_lst = []\n",
        "\n",
        "for i in range(5120):\n",
        "  panoff = f_offset.read(4)\n",
        "  tiltoff = f_offset.read(4)\n",
        "  rotateoff = f_offset.read(4)\n",
        "  tranoff = f_offset.read(4)\n",
        "  panoff_lst.append(int.from_bytes(panoff, byteorder = 'little' ,signed = True))\n",
        "  tiltoff_lst.append(int.from_bytes(tiltoff, byteorder = 'little' ,signed = True))\n",
        "  rotateoff_lst.append(int.from_bytes(rotateoff, byteorder = 'little' ,signed = True))\n",
        "  tranoff_lst.append(int.from_bytes(tranoff, byteorder = 'little' ,signed = True))\n",
        "\n",
        "rotatecom = []\n",
        "translatecom = []\n",
        "for i in range(5120):\n",
        "  rotatecom.append((right_lst[i] - left_lst[i])/2)\n",
        "  translatecom.append((right_lst[i] + left_lst[i])/2)\n"
      ],
      "execution_count": 63,
      "outputs": []
    },
    {
      "cell_type": "code",
      "metadata": {
        "id": "21P8W53VOAvK"
      },
      "source": [
        "import numpy as np\n",
        "\n",
        "import tensorflow as tf"
      ],
      "execution_count": 64,
      "outputs": []
    },
    {
      "cell_type": "code",
      "metadata": {
        "id": "G5rHJS1POB9K"
      },
      "source": [
        "size = 5120\n",
        "datanum = 10\n",
        "purpose_offset = tranoff_lst\n",
        "purpose_value = translatecom"
      ],
      "execution_count": 65,
      "outputs": []
    },
    {
      "cell_type": "code",
      "metadata": {
        "id": "ZaD1Tuzcq-3j"
      },
      "source": [
        "input_lst = []\n",
        "for i in range(size - datanum + 1):\n",
        "  box = []\n",
        "  for j in range(i, i+datanum, 1):\n",
        "    box.append(purpose_offset[j])\n",
        "  input_lst.append(box)\n",
        "\n",
        "label_lst = []\n",
        "for i in range(datanum - 1, size, 1):\n",
        "  box = []\n",
        "  box.append(purpose_value[i])\n",
        "  label_lst.append(box)"
      ],
      "execution_count": 66,
      "outputs": []
    },
    {
      "cell_type": "code",
      "metadata": {
        "id": "QnLLJuAVOTz7"
      },
      "source": [
        "rotateoff_numpy = np.array(input_lst)\n",
        "rotatecom_numpy = np.array(label_lst)"
      ],
      "execution_count": 67,
      "outputs": []
    },
    {
      "cell_type": "code",
      "metadata": {
        "id": "2iz09mKRrSs7"
      },
      "source": [
        "mean_vals = np.mean(rotateoff_numpy, axis=0)\n",
        "std_val = np.std(rotateoff_numpy)\n",
        "\n",
        "mean_vals_com = np.mean(rotatecom_numpy, axis=0)\n",
        "std_val_com = np.std(rotatecom_numpy)"
      ],
      "execution_count": 68,
      "outputs": []
    },
    {
      "cell_type": "code",
      "metadata": {
        "id": "B_Qrr9HFOjHP"
      },
      "source": [
        "rotateoff_numpy_centered = (rotateoff_numpy - mean_vals)/std_val\n",
        "rotatecom_numpy_centered = (rotatecom_numpy - mean_vals_com)/std_val_com\n",
        "\n",
        "# rotateoff_numpy_centered = (rotateoff_numpy - np.max(rotateoff_numpy))/(np.max(rotateoff_numpy) - np.min(rotateoff_numpy))\n",
        "# rotatecom_numpy_centered = (rotatecom_numpy - np.max(rotatecom_numpy))/(np.max(rotatecom_numpy) - np.min(rotatecom_numpy))"
      ],
      "execution_count": 69,
      "outputs": []
    },
    {
      "cell_type": "markdown",
      "metadata": {
        "id": "3SLHivbm-jkW"
      },
      "source": [
        ""
      ]
    },
    {
      "cell_type": "code",
      "metadata": {
        "id": "T08Ffm0yrpwo"
      },
      "source": [
        "train_x = np.ones((4000, datanum))\n",
        "train_y = np.ones((4000, 1))\n",
        "test_x = np.ones((1120 - datanum + 1, datanum))\n",
        "test_y = np.ones((1120 - datanum + 1, 1))\n",
        "\n",
        "for i in range(4000):\n",
        "  train_x[i] = rotateoff_numpy_centered[i]\n",
        "  train_y[i] = rotatecom_numpy_centered[i]\n",
        "\n",
        "for i in range(4000, 5120 - datanum + 1, 1):\n",
        "  test_x[i - 4000] = rotateoff_numpy_centered[i]\n",
        "  test_y[i - 4000] = rotatecom_numpy_centered[i]"
      ],
      "execution_count": 70,
      "outputs": []
    },
    {
      "cell_type": "code",
      "metadata": {
        "colab": {
          "base_uri": "https://localhost:8080/"
        },
        "id": "oMpBUkHbrxNP",
        "outputId": "d70dbbd7-3afe-44a4-83e0-bfb64c901f8f"
      },
      "source": [
        "print(test_x)"
      ],
      "execution_count": 71,
      "outputs": [
        {
          "output_type": "stream",
          "text": [
            "[[-2.89423516e-02  3.69857870e-04 -4.37991529e-01 ... -1.33551199e+00\n",
            "  -1.41559012e+00 -1.49575000e+00]\n",
            " [ 9.05178470e-04 -4.37393917e-01 -1.00509460e+00 ... -1.41510541e+00\n",
            "  -1.49518353e+00 -1.52559753e+00]\n",
            " [-4.36858596e-01 -1.00449699e+00 -6.36975063e-01 ... -1.49469882e+00\n",
            "  -1.52503106e+00 -1.51564835e+00]\n",
            " ...\n",
            " [ 1.24455227e+00  2.02682113e-02 -2.88753879e-01 ...  1.17168053e+00\n",
            "   1.43982359e+00  1.46910466e+00]\n",
            " [ 2.08035319e-02 -2.88156266e-01  1.46230122e+00 ...  1.44030830e+00\n",
            "   1.46967112e+00  1.29996865e+00]\n",
            " [-2.87620946e-01  1.46289883e+00  1.70108146e+00 ...  1.47015583e+00\n",
            "   1.30053512e+00  1.25022277e+00]]\n"
          ],
          "name": "stdout"
        }
      ]
    },
    {
      "cell_type": "code",
      "metadata": {
        "id": "_fzcTetfPdtM"
      },
      "source": [
        "model = tf.keras.models.Sequential()\n",
        "\n",
        "model.add(\n",
        "    tf.keras.layers.Dense(\n",
        "        units=50,    \n",
        "        input_dim = train_x.shape[1],\n",
        "        kernel_initializer='glorot_normal',\n",
        "        bias_initializer='zeros',\n",
        "        activation='tanh'))\n",
        "model.add(tf.keras.layers.Dropout(.2, input_shape=(2,)))\n",
        "model.add(\n",
        "    tf.keras.layers.Dense(\n",
        "        units=100,    \n",
        "        input_dim=100,\n",
        "        kernel_initializer='glorot_normal',\n",
        "        bias_initializer='zeros',\n",
        "        activation='tanh'))\n",
        "model.add(tf.keras.layers.Dropout(.2, input_shape=(2,)))\n",
        "model.add(\n",
        "    tf.keras.layers.Dense(\n",
        "        units=train_y.shape[1],    \n",
        "        input_dim=100,\n",
        "        kernel_initializer='glorot_normal',\n",
        "        bias_initializer='zeros',\n",
        "        activation=None))"
      ],
      "execution_count": 72,
      "outputs": []
    },
    {
      "cell_type": "code",
      "metadata": {
        "colab": {
          "base_uri": "https://localhost:8080/"
        },
        "id": "hKyWHyofPi7a",
        "outputId": "7e68f838-0137-41cc-8ad3-84f3d4b2096d"
      },
      "source": [
        "model.summary()"
      ],
      "execution_count": 73,
      "outputs": [
        {
          "output_type": "stream",
          "text": [
            "Model: \"sequential_3\"\n",
            "_________________________________________________________________\n",
            "Layer (type)                 Output Shape              Param #   \n",
            "=================================================================\n",
            "dense_9 (Dense)              (None, 50)                550       \n",
            "_________________________________________________________________\n",
            "dropout (Dropout)            (None, 50)                0         \n",
            "_________________________________________________________________\n",
            "dense_10 (Dense)             (None, 100)               5100      \n",
            "_________________________________________________________________\n",
            "dropout_1 (Dropout)          (None, 100)               0         \n",
            "_________________________________________________________________\n",
            "dense_11 (Dense)             (None, 1)                 101       \n",
            "=================================================================\n",
            "Total params: 5,751\n",
            "Trainable params: 5,751\n",
            "Non-trainable params: 0\n",
            "_________________________________________________________________\n"
          ],
          "name": "stdout"
        }
      ]
    },
    {
      "cell_type": "code",
      "metadata": {
        "id": "wcbUXSzYPl9f"
      },
      "source": [
        "sgd_optimizer = tf.keras.optimizers.SGD(\n",
        "    lr=0.000001, decay=1e-7, momentum=.9)\n",
        "\n",
        "model.compile(optimizer=sgd_optimizer,\n",
        "              loss='mse')"
      ],
      "execution_count": 74,
      "outputs": []
    },
    {
      "cell_type": "code",
      "metadata": {
        "colab": {
          "base_uri": "https://localhost:8080/"
        },
        "id": "PRXDeGnNPyl4",
        "outputId": "83d576c3-c3e6-4407-f9c1-7baa38304df9"
      },
      "source": [
        "history = model.fit(train_x, train_y,\n",
        "                    batch_size=1, epochs=50,\n",
        "                    verbose=1,\n",
        "                    validation_split=0.1)"
      ],
      "execution_count": 75,
      "outputs": [
        {
          "output_type": "stream",
          "text": [
            "Epoch 1/50\n",
            "3600/3600 [==============================] - 4s 1ms/step - loss: 1.2005 - val_loss: 1.3037\n",
            "Epoch 2/50\n",
            "3600/3600 [==============================] - 4s 1ms/step - loss: 0.5977 - val_loss: 0.9782\n",
            "Epoch 3/50\n",
            "3600/3600 [==============================] - 4s 1ms/step - loss: 0.4880 - val_loss: 0.8458\n",
            "Epoch 4/50\n",
            "3600/3600 [==============================] - 4s 1ms/step - loss: 0.4629 - val_loss: 0.7809\n",
            "Epoch 5/50\n",
            "3600/3600 [==============================] - 4s 1ms/step - loss: 0.4864 - val_loss: 0.7467\n",
            "Epoch 6/50\n",
            "3600/3600 [==============================] - 4s 1ms/step - loss: 0.4344 - val_loss: 0.7219\n",
            "Epoch 7/50\n",
            "3600/3600 [==============================] - 4s 1ms/step - loss: 0.3848 - val_loss: 0.7055\n",
            "Epoch 8/50\n",
            "3600/3600 [==============================] - 4s 1ms/step - loss: 0.3673 - val_loss: 0.6906\n",
            "Epoch 9/50\n",
            "3600/3600 [==============================] - 4s 1ms/step - loss: 0.4129 - val_loss: 0.6787\n",
            "Epoch 10/50\n",
            "3600/3600 [==============================] - 4s 1ms/step - loss: 0.4057 - val_loss: 0.6669\n",
            "Epoch 11/50\n",
            "3600/3600 [==============================] - 4s 1ms/step - loss: 0.4083 - val_loss: 0.6604\n",
            "Epoch 12/50\n",
            "3600/3600 [==============================] - 4s 1ms/step - loss: 0.3743 - val_loss: 0.6506\n",
            "Epoch 13/50\n",
            "3600/3600 [==============================] - 4s 1ms/step - loss: 0.3913 - val_loss: 0.6440\n",
            "Epoch 14/50\n",
            "3600/3600 [==============================] - 4s 1ms/step - loss: 0.3817 - val_loss: 0.6357\n",
            "Epoch 15/50\n",
            "3600/3600 [==============================] - 4s 1ms/step - loss: 0.4052 - val_loss: 0.6305\n",
            "Epoch 16/50\n",
            "3600/3600 [==============================] - 4s 1ms/step - loss: 0.3540 - val_loss: 0.6224\n",
            "Epoch 17/50\n",
            "3600/3600 [==============================] - 4s 1ms/step - loss: 0.3611 - val_loss: 0.6175\n",
            "Epoch 18/50\n",
            "3600/3600 [==============================] - 4s 1ms/step - loss: 0.4232 - val_loss: 0.6150\n",
            "Epoch 19/50\n",
            "3600/3600 [==============================] - 4s 1ms/step - loss: 0.3453 - val_loss: 0.6112\n",
            "Epoch 20/50\n",
            "3600/3600 [==============================] - 4s 1ms/step - loss: 0.4169 - val_loss: 0.6065\n",
            "Epoch 21/50\n",
            "3600/3600 [==============================] - 4s 1ms/step - loss: 0.3993 - val_loss: 0.6053\n",
            "Epoch 22/50\n",
            "3600/3600 [==============================] - 4s 1ms/step - loss: 0.3320 - val_loss: 0.5938\n",
            "Epoch 23/50\n",
            "3600/3600 [==============================] - 4s 1ms/step - loss: 0.3731 - val_loss: 0.5905\n",
            "Epoch 24/50\n",
            "3600/3600 [==============================] - 4s 1ms/step - loss: 0.3982 - val_loss: 0.5890\n",
            "Epoch 25/50\n",
            "3600/3600 [==============================] - 4s 1ms/step - loss: 0.3541 - val_loss: 0.5836\n",
            "Epoch 26/50\n",
            "3600/3600 [==============================] - 4s 1ms/step - loss: 0.3232 - val_loss: 0.5800\n",
            "Epoch 27/50\n",
            "3600/3600 [==============================] - 4s 1ms/step - loss: 0.4422 - val_loss: 0.5791\n",
            "Epoch 28/50\n",
            "3600/3600 [==============================] - 4s 1ms/step - loss: 0.3376 - val_loss: 0.5774\n",
            "Epoch 29/50\n",
            "3600/3600 [==============================] - 4s 1ms/step - loss: 0.3849 - val_loss: 0.5770\n",
            "Epoch 30/50\n",
            "3600/3600 [==============================] - 4s 1ms/step - loss: 0.3944 - val_loss: 0.5737\n",
            "Epoch 31/50\n",
            "3600/3600 [==============================] - 4s 1ms/step - loss: 0.3589 - val_loss: 0.5702\n",
            "Epoch 32/50\n",
            "3600/3600 [==============================] - 4s 1ms/step - loss: 0.3784 - val_loss: 0.5667\n",
            "Epoch 33/50\n",
            "3600/3600 [==============================] - 4s 1ms/step - loss: 0.3211 - val_loss: 0.5617\n",
            "Epoch 34/50\n",
            "3600/3600 [==============================] - 4s 1ms/step - loss: 0.3621 - val_loss: 0.5607\n",
            "Epoch 35/50\n",
            "3600/3600 [==============================] - 4s 1ms/step - loss: 0.3293 - val_loss: 0.5567\n",
            "Epoch 36/50\n",
            "3600/3600 [==============================] - 4s 1ms/step - loss: 0.3631 - val_loss: 0.5537\n",
            "Epoch 37/50\n",
            "3600/3600 [==============================] - 4s 1ms/step - loss: 0.3295 - val_loss: 0.5527\n",
            "Epoch 38/50\n",
            "3600/3600 [==============================] - 4s 1ms/step - loss: 0.3114 - val_loss: 0.5500\n",
            "Epoch 39/50\n",
            "3600/3600 [==============================] - 4s 1ms/step - loss: 0.3210 - val_loss: 0.5495\n",
            "Epoch 40/50\n",
            "3600/3600 [==============================] - 4s 1ms/step - loss: 0.3276 - val_loss: 0.5482\n",
            "Epoch 41/50\n",
            "3600/3600 [==============================] - 4s 1ms/step - loss: 0.3271 - val_loss: 0.5452\n",
            "Epoch 42/50\n",
            "3600/3600 [==============================] - 4s 1ms/step - loss: 0.3163 - val_loss: 0.5423\n",
            "Epoch 43/50\n",
            "3600/3600 [==============================] - 4s 1ms/step - loss: 0.3128 - val_loss: 0.5420\n",
            "Epoch 44/50\n",
            "3600/3600 [==============================] - 4s 1ms/step - loss: 0.3316 - val_loss: 0.5399\n",
            "Epoch 45/50\n",
            "3600/3600 [==============================] - 4s 1ms/step - loss: 0.3437 - val_loss: 0.5377\n",
            "Epoch 46/50\n",
            "3600/3600 [==============================] - 4s 1ms/step - loss: 0.3510 - val_loss: 0.5362\n",
            "Epoch 47/50\n",
            "3600/3600 [==============================] - 4s 1ms/step - loss: 0.3152 - val_loss: 0.5333\n",
            "Epoch 48/50\n",
            "3600/3600 [==============================] - 4s 1ms/step - loss: 0.3154 - val_loss: 0.5324\n",
            "Epoch 49/50\n",
            "3600/3600 [==============================] - 4s 1ms/step - loss: 0.3413 - val_loss: 0.5293\n",
            "Epoch 50/50\n",
            "3600/3600 [==============================] - 4s 1ms/step - loss: 0.3519 - val_loss: 0.5301\n"
          ],
          "name": "stdout"
        }
      ]
    },
    {
      "cell_type": "code",
      "metadata": {
        "id": "8cHfeniKPz65",
        "colab": {
          "base_uri": "https://localhost:8080/",
          "height": 428
        },
        "outputId": "2b9e690f-a30b-46d0-981c-d5abf8d82566"
      },
      "source": [
        "import matplotlib.pyplot as plt\n",
        "\n",
        "loss_and_metrics = model.evaluate(test_x, test_y, batch_size=1)\n",
        "xhat = test_x\n",
        "yhat = model.predict(xhat)\n",
        "print(yhat)\n",
        "\n",
        "\n",
        "SSE_lst = [] \n",
        "SST_lst = []\n",
        "\n",
        "means = test_y.sum()/test_y.shape[0]\n",
        "\n",
        "for i in range(xhat.shape[0]):\n",
        "  SSE_lst.append((test_y[i] - yhat[i])**2)\n",
        "  SST_lst.append((test_y[i] - means)**2)\n",
        "\n",
        "R_square = 1 - (sum(SSE_lst) / sum(SST_lst))\n",
        "\n",
        "\n",
        "plt.plot(test_x, test_y, '.', color = 'b') \n",
        "plt.plot(xhat, yhat, '.', color = 'r') \n",
        "\n",
        "plt.show()\n",
        "\n",
        "print(R_square)\n"
      ],
      "execution_count": 76,
      "outputs": [
        {
          "output_type": "stream",
          "text": [
            "1111/1111 [==============================] - 1s 796us/step - loss: 0.3031\n",
            "[[ 1.3724564]\n",
            " [ 1.3703698]\n",
            " [ 1.4620043]\n",
            " ...\n",
            " [-1.1990145]\n",
            " [-1.0892879]\n",
            " [-1.1130947]]\n"
          ],
          "name": "stdout"
        },
        {
          "output_type": "display_data",
          "data": {
            "image/png": "[encoded data removed]",
            "text/plain": [
              "<Figure size 432x288 with 1 Axes>"
            ]
          },
          "metadata": {
            "tags": [],
            "needs_background": "light"
          }
        },
        {
          "output_type": "stream",
          "text": [
            "[0.73133072]\n"
          ],
          "name": "stdout"
        }
      ]
    },
    {
      "cell_type": "code",
      "metadata": {
        "id": "IFjwLtLL467u",
        "colab": {
          "base_uri": "https://localhost:8080/",
          "height": 265
        },
        "outputId": "76ce5abe-0d04-4fe8-fee1-f87ff9275ee2"
      },
      "source": [
        "plt.plot(test_y, yhat, '.', color = 'b') \n",
        "\n",
        "\n",
        "plt.show()\n"
      ],
      "execution_count": 77,
      "outputs": [
        {
          "output_type": "display_data",
          "data": {
            "image/png": "[encoded data removed]",
            "text/plain": [
              "<Figure size 432x288 with 1 Axes>"
            ]
          },
          "metadata": {
            "tags": [],
            "needs_background": "light"
          }
        }
      ]
    },
    {
      "cell_type": "code",
      "metadata": {
        "id": "Ou8Fnhu_VnXC"
      },
      "source": [
        ""
      ],
      "execution_count": null,
      "outputs": []
    }
  ]
}