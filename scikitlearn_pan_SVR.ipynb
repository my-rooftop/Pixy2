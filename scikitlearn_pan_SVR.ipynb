{
  "nbformat": 4,
  "nbformat_minor": 0,
  "metadata": {
    "colab": {
      "name": "scikitlearn_pan_SVR.ipynb",
      "provenance": []
    },
    "kernelspec": {
      "display_name": "Python 3",
      "name": "python3"
    },
    "language_info": {
      "name": "python"
    }
  },
  "cells": [
    {
      "cell_type": "code",
      "metadata": {
        "id": "cj0vCDhanbZW"
      },
      "source": [
        "import numpy as np\n",
        "from sklearn import svm\n",
        "f_leftandright = open('leftandright', 'rb')\n",
        "left_lst = []\n",
        "right_lst = []\n",
        "pan_lst = []\n",
        "tilt_lst = []\n",
        "\n",
        "for i in range(16139):\n",
        "  left = f_leftandright.read(4)\n",
        "  right = f_leftandright.read(4)\n",
        "  pan = f_leftandright.read(4)\n",
        "  tilt = f_leftandright.read(4)\n",
        "  left_lst.append(int.from_bytes(left, byteorder = 'little' ,signed = True))\n",
        "  right_lst.append(int.from_bytes(right, byteorder = 'little' ,signed = True))\n",
        "  pan_lst.append(int.from_bytes(pan, byteorder = 'little' ,signed = True))\n",
        "  tilt_lst.append(int.from_bytes(tilt, byteorder = 'little' ,signed = True))\n",
        "\n",
        "f_offset = open('offset', 'rb')\n",
        "panoff_lst = []\n",
        "tiltoff_lst = []\n",
        "rotateoff_lst = []\n",
        "tranoff_lst = []\n",
        "\n",
        "for i in range(16139):\n",
        "  panoff = f_offset.read(4)\n",
        "  tiltoff = f_offset.read(4)\n",
        "  rotateoff = f_offset.read(4)\n",
        "  tranoff = f_offset.read(4)\n",
        "  panoff_lst.append(int.from_bytes(panoff, byteorder = 'little' ,signed = True))\n",
        "  tiltoff_lst.append(int.from_bytes(tiltoff, byteorder = 'little' ,signed = True))\n",
        "  rotateoff_lst.append(int.from_bytes(rotateoff, byteorder = 'little' ,signed = True))\n",
        "  tranoff_lst.append(int.from_bytes(tranoff, byteorder = 'little' ,signed = True))\n",
        "\n",
        "rotatecom = []\n",
        "translatecom = []\n",
        "for i in range(16139):\n",
        "  rotatecom.append((right_lst[i] - left_lst[i])/2)\n",
        "  translatecom.append((right_lst[i] + left_lst[i])/2)\n"
      ],
      "execution_count": 11,
      "outputs": []
    },
    {
      "cell_type": "code",
      "metadata": {
        "id": "aq2HHEWLn7GS"
      },
      "source": [
        "size = 15000\n",
        "test_num = 1000\n",
        "datanum = 20\n",
        "purpose_offset = panoff_lst\n",
        "purpose_value = pan_lst"
      ],
      "execution_count": 12,
      "outputs": []
    },
    {
      "cell_type": "code",
      "metadata": {
        "id": "HsSC5RWEn9Aq"
      },
      "source": [
        "input_lst = []\n",
        "input_lst_test = []\n",
        "for i in range(size - datanum + 1):\n",
        "  box = []\n",
        "  for j in range(i, i+datanum, 1):\n",
        "    box.append(purpose_offset[j])\n",
        "  if i > size - datanum + 1 - test_num - 1:\n",
        "    input_lst_test.append(box)\n",
        "  else : \n",
        "    input_lst.append(box)\n",
        "\n",
        "label_lst = []\n",
        "label_lst_test = []\n",
        "for i in range(datanum - 1, size, 1):\n",
        "  if i > size -  test_num - 1:\n",
        "    label_lst_test.append(purpose_value[i])\n",
        "  else:\n",
        "    label_lst.append(purpose_value[i])\n"
      ],
      "execution_count": 13,
      "outputs": []
    },
    {
      "cell_type": "code",
      "metadata": {
        "colab": {
          "base_uri": "https://localhost:8080/"
        },
        "id": "j_FuMHIpv7H1",
        "outputId": "ecefd1e0-fb39-451a-8841-b183277f3a31"
      },
      "source": [
        "print(len(input_lst), len(input_lst_test))\n",
        "print(len(label_lst), len(label_lst_test))"
      ],
      "execution_count": 14,
      "outputs": [
        {
          "output_type": "stream",
          "text": [
            "13981 1000\n",
            "13981 1000\n"
          ],
          "name": "stdout"
        }
      ]
    },
    {
      "cell_type": "code",
      "metadata": {
        "id": "jixuoPYnkeUj"
      },
      "source": [
        "\n",
        "# X = [[0., 0.], [1., 1.]]\n",
        "# y = [0, 1]\n",
        "n_samples, n_features = 13996, 5\n",
        "\n",
        "\n",
        "\n"
      ],
      "execution_count": 15,
      "outputs": []
    },
    {
      "cell_type": "code",
      "metadata": {
        "id": "MbdeA8yvK5Dq"
      },
      "source": [
        "reg = svm.SVR()"
      ],
      "execution_count": 16,
      "outputs": []
    },
    {
      "cell_type": "code",
      "metadata": {
        "colab": {
          "base_uri": "https://localhost:8080/"
        },
        "id": "ztKEtJKDkuEn",
        "outputId": "615f1950-68db-4ce8-99c9-882e4ae95776"
      },
      "source": [
        "reg.fit(input_lst, label_lst)\n"
      ],
      "execution_count": 17,
      "outputs": [
        {
          "output_type": "execute_result",
          "data": {
            "text/plain": [
              "SVR(C=1.0, cache_size=200, coef0=0.0, degree=3, epsilon=0.1, gamma='scale',\n",
              "    kernel='rbf', max_iter=-1, shrinking=True, tol=0.001, verbose=False)"
            ]
          },
          "metadata": {
            "tags": []
          },
          "execution_count": 17
        }
      ]
    },
    {
      "cell_type": "markdown",
      "metadata": {
        "id": "8gn9umlsL53Q"
      },
      "source": [
        ""
      ]
    },
    {
      "cell_type": "code",
      "metadata": {
        "id": "OgEd4iC7uMwY",
        "colab": {
          "base_uri": "https://localhost:8080/"
        },
        "outputId": "162e2524-ca5c-4b98-a2f7-10e15378545a"
      },
      "source": [
        "reg.score(input_lst_test, label_lst_test)"
      ],
      "execution_count": 18,
      "outputs": [
        {
          "output_type": "execute_result",
          "data": {
            "text/plain": [
              "-0.12994175192861812"
            ]
          },
          "metadata": {
            "tags": []
          },
          "execution_count": 18
        }
      ]
    },
    {
      "cell_type": "code",
      "metadata": {
        "colab": {
          "base_uri": "https://localhost:8080/"
        },
        "id": "FwSiTWwjxZ5I",
        "outputId": "3e475573-6fea-4f10-ce32-3405ee1381e2"
      },
      "source": [
        "reg.get_params()"
      ],
      "execution_count": 19,
      "outputs": [
        {
          "output_type": "execute_result",
          "data": {
            "text/plain": [
              "{'C': 1.0,\n",
              " 'cache_size': 200,\n",
              " 'coef0': 0.0,\n",
              " 'degree': 3,\n",
              " 'epsilon': 0.1,\n",
              " 'gamma': 'scale',\n",
              " 'kernel': 'rbf',\n",
              " 'max_iter': -1,\n",
              " 'shrinking': True,\n",
              " 'tol': 0.001,\n",
              " 'verbose': False}"
            ]
          },
          "metadata": {
            "tags": []
          },
          "execution_count": 19
        }
      ]
    },
    {
      "cell_type": "code",
      "metadata": {
        "colab": {
          "base_uri": "https://localhost:8080/",
          "height": 283
        },
        "id": "MfKtM5FPmayO",
        "outputId": "63e19541-f4fb-41f6-8dee-34cec62f4a3e"
      },
      "source": [
        "import matplotlib.pyplot as plt\n",
        "\n",
        "y_hat = reg.predict(input_lst_test)\n",
        "\n",
        "\n",
        "SSE_lst = 0 \n",
        "SST_lst = 0\n",
        "\n",
        "sume = 0\n",
        "for i in range(len(label_lst_test)):\n",
        "  sume = sume + label_lst_test[i]\n",
        "\n",
        "means = float(sume/len(label_lst_test))\n",
        "\n",
        "for i in range(len(input_lst_test)):\n",
        "  SSE_lst += (label_lst_test[i] - y_hat[i])**2\n",
        "  SST_lst += (label_lst_test[i] - means)**2\n",
        "\n",
        "\n",
        "\n",
        "R_square = 1 - (SSE_lst / SST_lst)\n",
        "\n",
        "print(\"R_square :\", R_square) \n",
        "\n",
        "input_encoded = []\n",
        "for i in range(len(input_lst_test)):\n",
        "  input_encoded.append(input_lst_test[i][datanum -1])\n",
        "\n",
        "plt.plot(input_encoded, label_lst_test, '.', color = 'b') \n",
        "plt.plot(input_encoded, y_hat, '.', color = 'r') \n",
        "\n",
        "plt.show()"
      ],
      "execution_count": 20,
      "outputs": [
        {
          "output_type": "stream",
          "text": [
            "R_square : -0.12994175192861657\n"
          ],
          "name": "stdout"
        },
        {
          "output_type": "display_data",
          "data": {
            "image/png": "[encoded data removed]",
            "text/plain": [
              "<Figure size 432x288 with 1 Axes>"
            ]
          },
          "metadata": {
            "tags": [],
            "needs_background": "light"
          }
        }
      ]
    },
    {
      "cell_type": "code",
      "metadata": {
        "colab": {
          "base_uri": "https://localhost:8080/",
          "height": 265
        },
        "id": "TY79wQl9tZpy",
        "outputId": "352498ec-795b-4570-df57-eec14bc08ca8"
      },
      "source": [
        "input_encoded = []\n",
        "for i in range(len(input_lst)):\n",
        "  input_encoded.append(input_lst[i][datanum -1])\n",
        "y_hat_2 = reg.predict(input_lst)\n",
        "\n",
        "plt.plot(input_encoded, label_lst, '.', color = 'b')\n",
        "plt.plot(input_encoded, y_hat_2, '.', color = 'r')\n",
        "plt.show()"
      ],
      "execution_count": 21,
      "outputs": [
        {
          "output_type": "display_data",
          "data": {
            "image/png": "[encoded data removed]",
            "text/plain": [
              "<Figure size 432x288 with 1 Axes>"
            ]
          },
          "metadata": {
            "tags": [],
            "needs_background": "light"
          }
        }
      ]
    },
    {
      "cell_type": "code",
      "metadata": {
        "id": "vss6tEvn7MVm"
      },
      "source": [
        ""
      ],
      "execution_count": null,
      "outputs": []
    }
  ]
}